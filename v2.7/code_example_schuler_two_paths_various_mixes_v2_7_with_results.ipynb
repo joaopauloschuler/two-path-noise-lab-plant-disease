{
  "nbformat": 4,
  "nbformat_minor": 0,
  "metadata": {
    "accelerator": "GPU",
    "colab": {
      "name": "code_example_schuler_two_paths_various_mixes-v2.7.ipynb",
      "provenance": [],
      "collapsed_sections": [],
      "machine_shape": "hm"
    },
    "kernelspec": {
      "display_name": "Python 3",
      "language": "python",
      "name": "python3"
    },
    "language_info": {
      "codemirror_mode": {
        "name": "ipython",
        "version": 3
      },
      "file_extension": ".py",
      "mimetype": "text/x-python",
      "name": "python",
      "nbconvert_exporter": "python",
      "pygments_lexer": "ipython3",
      "version": "3.6.9"
    }
  },
  "cells": [
    {
      "cell_type": "code",
      "source": [
        "monitor='val_accuracy'\n",
        "epochs=30\n",
        "batch_size=16\n",
        "input_shape=(128, 128, 3) # please resize it to (224,224,3) if you have enough RAM\n",
        "Verbose=True"
      ],
      "metadata": {
        "id": "6DH0gsiwyxgN"
      },
      "execution_count": 1,
      "outputs": []
    },
    {
      "cell_type": "markdown",
      "metadata": {
        "id": "2JXWocLnz38N"
      },
      "source": [
        "This source code requires a **HIGH RAM** machine.\n",
        "\n",
        "You might need to install this on your system:\n",
        "\n",
        "apt-get install python3-opencv git"
      ]
    },
    {
      "cell_type": "code",
      "metadata": {
        "id": "PQKpflNl7m63",
        "outputId": "7bcb440c-b3b0-47b7-f453-d7ff0801175c",
        "colab": {
          "base_uri": "https://localhost:8080/"
        }
      },
      "source": [
        "import os\n",
        "\n",
        "if not os.path.isdir('k'):\n",
        "  !git clone -b development14 https://github.com/joaopauloschuler/k-neural-api.git k\n",
        "else:\n",
        "  !cd k && git pull\n",
        "\n",
        "!cd k && pip install ."
      ],
      "execution_count": 2,
      "outputs": [
        {
          "output_type": "stream",
          "name": "stdout",
          "text": [
            "Cloning into 'k'...\n",
            "remote: Enumerating objects: 1400, done.\u001b[K\n",
            "remote: Counting objects: 100% (849/849), done.\u001b[K\n",
            "remote: Compressing objects: 100% (548/548), done.\u001b[K\n",
            "remote: Total 1400 (delta 624), reused 519 (delta 300), pack-reused 551\u001b[K\n",
            "Receiving objects: 100% (1400/1400), 15.00 MiB | 25.19 MiB/s, done.\n",
            "Resolving deltas: 100% (980/980), done.\n",
            "Processing /content/k\n",
            "\u001b[33m  DEPRECATION: A future pip version will change local packages to be built in-place without first copying to a temporary directory. We recommend you use --use-feature=in-tree-build to test your packages with this new behavior before it becomes the default.\n",
            "   pip 21.3 will remove support for this functionality. You can find discussion regarding this at https://github.com/pypa/pip/issues/7555.\u001b[0m\n",
            "Requirement already satisfied: pandas>=0.22.0 in /usr/local/lib/python3.7/dist-packages (from cai==0.1.5) (1.1.5)\n",
            "Requirement already satisfied: scikit-image>=0.15.0 in /usr/local/lib/python3.7/dist-packages (from cai==0.1.5) (0.18.3)\n",
            "Requirement already satisfied: opencv-python>=4.1.2.30 in /usr/local/lib/python3.7/dist-packages (from cai==0.1.5) (4.1.2.30)\n",
            "Requirement already satisfied: scikit-learn>=0.21.0numpy in /usr/local/lib/python3.7/dist-packages (from cai==0.1.5) (1.0.1)\n",
            "Requirement already satisfied: numpy>=1.14.5 in /usr/local/lib/python3.7/dist-packages (from opencv-python>=4.1.2.30->cai==0.1.5) (1.19.5)\n",
            "Requirement already satisfied: pytz>=2017.2 in /usr/local/lib/python3.7/dist-packages (from pandas>=0.22.0->cai==0.1.5) (2018.9)\n",
            "Requirement already satisfied: python-dateutil>=2.7.3 in /usr/local/lib/python3.7/dist-packages (from pandas>=0.22.0->cai==0.1.5) (2.8.2)\n",
            "Requirement already satisfied: six>=1.5 in /usr/local/lib/python3.7/dist-packages (from python-dateutil>=2.7.3->pandas>=0.22.0->cai==0.1.5) (1.15.0)\n",
            "Requirement already satisfied: tifffile>=2019.7.26 in /usr/local/lib/python3.7/dist-packages (from scikit-image>=0.15.0->cai==0.1.5) (2021.11.2)\n",
            "Requirement already satisfied: pillow!=7.1.0,!=7.1.1,>=4.3.0 in /usr/local/lib/python3.7/dist-packages (from scikit-image>=0.15.0->cai==0.1.5) (7.1.2)\n",
            "Requirement already satisfied: networkx>=2.0 in /usr/local/lib/python3.7/dist-packages (from scikit-image>=0.15.0->cai==0.1.5) (2.6.3)\n",
            "Requirement already satisfied: PyWavelets>=1.1.1 in /usr/local/lib/python3.7/dist-packages (from scikit-image>=0.15.0->cai==0.1.5) (1.2.0)\n",
            "Requirement already satisfied: scipy>=1.0.1 in /usr/local/lib/python3.7/dist-packages (from scikit-image>=0.15.0->cai==0.1.5) (1.4.1)\n",
            "Requirement already satisfied: matplotlib!=3.0.0,>=2.0.0 in /usr/local/lib/python3.7/dist-packages (from scikit-image>=0.15.0->cai==0.1.5) (3.2.2)\n",
            "Requirement already satisfied: imageio>=2.3.0 in /usr/local/lib/python3.7/dist-packages (from scikit-image>=0.15.0->cai==0.1.5) (2.4.1)\n",
            "Requirement already satisfied: pyparsing!=2.0.4,!=2.1.2,!=2.1.6,>=2.0.1 in /usr/local/lib/python3.7/dist-packages (from matplotlib!=3.0.0,>=2.0.0->scikit-image>=0.15.0->cai==0.1.5) (3.0.6)\n",
            "Requirement already satisfied: cycler>=0.10 in /usr/local/lib/python3.7/dist-packages (from matplotlib!=3.0.0,>=2.0.0->scikit-image>=0.15.0->cai==0.1.5) (0.11.0)\n",
            "Requirement already satisfied: kiwisolver>=1.0.1 in /usr/local/lib/python3.7/dist-packages (from matplotlib!=3.0.0,>=2.0.0->scikit-image>=0.15.0->cai==0.1.5) (1.3.2)\n",
            "Requirement already satisfied: threadpoolctl>=2.0.0 in /usr/local/lib/python3.7/dist-packages (from scikit-learn>=0.21.0numpy->cai==0.1.5) (3.0.0)\n",
            "Requirement already satisfied: joblib>=0.11 in /usr/local/lib/python3.7/dist-packages (from scikit-learn>=0.21.0numpy->cai==0.1.5) (1.1.0)\n",
            "Building wheels for collected packages: cai\n",
            "  Building wheel for cai (setup.py) ... \u001b[?25l\u001b[?25hdone\n",
            "  Created wheel for cai: filename=cai-0.1.5-py3-none-any.whl size=57413 sha256=d2f36131ead1e20489fbedfcc846205b3745683a8f784a9cb952b56ac91db311\n",
            "  Stored in directory: /tmp/pip-ephem-wheel-cache-d5agk42l/wheels/c1/8a/57/56dbba25eff58e52e5365435c4fa102ad8d6f9787d3b4db13a\n",
            "Successfully built cai\n",
            "Installing collected packages: cai\n",
            "Successfully installed cai-0.1.5\n"
          ]
        }
      ]
    },
    {
      "cell_type": "code",
      "metadata": {
        "id": "2FWmCCX96ndE",
        "outputId": "3a8dad89-94ca-4899-d758-c1c0a6820d02",
        "colab": {
          "base_uri": "https://localhost:8080/"
        }
      },
      "source": [
        "import sys\n",
        "print(\"Python version\")\n",
        "print (sys.version)\n",
        "print(\"Version info.\")\n",
        "print (sys.version_info)\n",
        "\n",
        "import skimage\n",
        "print('skimage version',  skimage.__version__)\n",
        "import tensorflow as tf\n",
        "print(tf.__version__)\n",
        "import sys\n",
        "import cai\n",
        "import cai.datasets\n",
        "import cai.densenet\n",
        "import cai.util\n",
        "import cai.models"
      ],
      "execution_count": 3,
      "outputs": [
        {
          "output_type": "stream",
          "name": "stdout",
          "text": [
            "Python version\n",
            "3.7.12 (default, Sep 10 2021, 00:21:48) \n",
            "[GCC 7.5.0]\n",
            "Version info.\n",
            "sys.version_info(major=3, minor=7, micro=12, releaselevel='final', serial=0)\n",
            "skimage version 0.18.3\n",
            "2.7.0\n"
          ]
        }
      ]
    },
    {
      "cell_type": "code",
      "metadata": {
        "id": "9WqdOtor61VZ",
        "outputId": "c08cfbb4-f4ab-442b-936b-a4b48a0e304e",
        "colab": {
          "base_uri": "https://localhost:8080/"
        }
      },
      "source": [
        "url_zip_file=\"https://data.mendeley.com/public-files/datasets/tywbtsjrjv/files/d5652a28-c1d8-4b76-97f3-72fb80f94efc/file_downloaded\"\n",
        "local_zip_file=\"plant_leaf.zip\"\n",
        "expected_folder_name=\"plant_leaf\"\n",
        "cai.datasets.download_zip_and_extract(\n",
        "    url_zip_file=url_zip_file, local_zip_file=local_zip_file, \n",
        "    expected_folder_name=expected_folder_name, Verbose=Verbose)"
      ],
      "execution_count": 4,
      "outputs": [
        {
          "output_type": "stream",
          "name": "stdout",
          "text": [
            "Downloading:  https://data.mendeley.com/public-files/datasets/tywbtsjrjv/files/d5652a28-c1d8-4b76-97f3-72fb80f94efc/file_downloaded  to  plant_leaf.zip\n",
            "Decompressing into:  plant_leaf\n"
          ]
        }
      ]
    },
    {
      "cell_type": "code",
      "metadata": {
        "id": "-Yn9mmLAxvlK"
      },
      "source": [
        "import random\n",
        "import os\n",
        "import multiprocessing\n",
        "import glob\n",
        "import numpy as np\n",
        "import tensorflow\n",
        "from sklearn.model_selection import train_test_split\n",
        "import sklearn.utils.class_weight\n",
        "from tensorflow import keras\n",
        "from tensorflow.keras import mixed_precision\n",
        "from tensorflow.keras.applications.inception_v3 import InceptionV3\n",
        "from tensorflow.keras.preprocessing.image import ImageDataGenerator, load_img, img_to_array\n",
        "from tensorflow.keras import utils as np_utils\n",
        "from tensorflow.keras.optimizers import SGD\n",
        "from tensorflow.keras.layers import *\n",
        "from tensorflow.keras.models import Model\n",
        "from tensorflow.keras.callbacks import EarlyStopping\n",
        "import matplotlib.pyplot as plt\n",
        "%matplotlib inline"
      ],
      "execution_count": 5,
      "outputs": []
    },
    {
      "cell_type": "code",
      "metadata": {
        "id": "Z2LGtzGBx5IR",
        "outputId": "819da653-78fa-4a5d-ffc6-2763445e7f0d",
        "colab": {
          "base_uri": "https://localhost:8080/"
        }
      },
      "source": [
        "!rm -r plant_leaf/Plant_leave_diseases_dataset_without_augmentation/Background_without_leaves -R\n",
        "data_dir = \"plant_leaf/Plant_leave_diseases_dataset_without_augmentation/\"\n",
        "print(os.listdir(data_dir))"
      ],
      "execution_count": 6,
      "outputs": [
        {
          "output_type": "stream",
          "name": "stdout",
          "text": [
            "['Pepper,_bell___Bacterial_spot', 'Blueberry___healthy', 'Strawberry___Leaf_scorch', 'Strawberry___healthy', 'Peach___healthy', 'Apple___Black_rot', 'Grape___Leaf_blight_(Isariopsis_Leaf_Spot)', 'Potato___Early_blight', 'Corn___healthy', 'Corn___Common_rust', 'Tomato___Spider_mites Two-spotted_spider_mite', 'Tomato___Late_blight', 'Raspberry___healthy', 'Grape___Esca_(Black_Measles)', 'Tomato___Target_Spot', 'Grape___healthy', 'Tomato___healthy', 'Apple___Apple_scab', 'Apple___healthy', 'Grape___Black_rot', 'Corn___Northern_Leaf_Blight', 'Corn___Cercospora_leaf_spot Gray_leaf_spot', 'Tomato___Septoria_leaf_spot', 'Potato___Late_blight', 'Squash___Powdery_mildew', 'Peach___Bacterial_spot', 'Tomato___Tomato_mosaic_virus', 'Tomato___Early_blight', 'Cherry___healthy', 'Potato___healthy', 'Pepper,_bell___healthy', 'Cherry___Powdery_mildew', 'Tomato___Bacterial_spot', 'Tomato___Tomato_Yellow_Leaf_Curl_Virus', 'Soybean___healthy', 'Tomato___Leaf_Mold', 'Apple___Cedar_apple_rust', 'Orange___Haunglongbing_(Citrus_greening)']\n"
          ]
        }
      ]
    },
    {
      "cell_type": "code",
      "metadata": {
        "id": "T_1lHVDc082Z",
        "outputId": "1199c5c0-afbe-458e-c3d3-cca8f0b6250c",
        "colab": {
          "base_uri": "https://localhost:8080/"
        }
      },
      "source": [
        "train_x, val_x, test_x, train_y, val_y, test_y, classweight, classes = cai.datasets.load_images_from_folders(seed=7, root_dir=data_dir, lab=True, \n",
        "  verbose=Verbose, bipolar=False, base_model_name='plant_leaf',\n",
        "  training_size=0.6, validation_size=0.2, test_size=0.2,\n",
        "  target_size=(input_shape[0],input_shape[1]), \n",
        "  has_training=True, has_validation=True, has_testing=True, \n",
        "  smart_resize=True)"
      ],
      "execution_count": 7,
      "outputs": [
        {
          "output_type": "stream",
          "name": "stdout",
          "text": [
            "Loading  38  classes.\n",
            "smart resize is enabled.\n",
            "loading train images\n",
            "train shape is: (32571, 128, 128, 3)\n",
            "loading validation images\n",
            "validation shape is: (10858, 128, 128, 3)\n",
            "loading test images\n",
            "test shape is: (10876, 128, 128, 3)\n",
            "Channel  0  min: 0.0  max: 1.0\n",
            "Channel  1  min: 0.19593212  max: 0.88375795\n",
            "Channel  2  min: 0.24579802  max: 0.9470912\n",
            "Loaded.\n"
          ]
        }
      ]
    },
    {
      "cell_type": "code",
      "metadata": {
        "id": "UosoQy_c1_4M",
        "outputId": "7e12865b-ecdb-4145-a4d1-8808edc64068",
        "colab": {
          "base_uri": "https://localhost:8080/"
        }
      },
      "source": [
        "print(train_x.shape,val_x.shape,test_x.shape)\n",
        "print(train_y.shape,val_y.shape,test_y.shape)"
      ],
      "execution_count": 8,
      "outputs": [
        {
          "output_type": "stream",
          "name": "stdout",
          "text": [
            "(32571, 128, 128, 3) (10858, 128, 128, 3) (10876, 128, 128, 3)\n",
            "(32571, 38) (10858, 38) (10876, 38)\n"
          ]
        }
      ]
    },
    {
      "cell_type": "code",
      "metadata": {
        "id": "d-q_V3dJ3BhT",
        "outputId": "94ff24a7-e51e-4ddf-c97b-cc8034d855c8",
        "colab": {
          "base_uri": "https://localhost:8080/"
        }
      },
      "source": [
        "for two_paths_second_block in [False]:\n",
        "  for l_ratio in [0.2]:\n",
        "    basefilename = 'two-path-inception-v2.7-'+str(two_paths_second_block)+'-'+str(l_ratio)\n",
        "    print('Running: '+basefilename)\n",
        "    model = cai.models.compiled_two_path_inception_v3(\n",
        "      input_shape=input_shape,\n",
        "      classes=38, \n",
        "      two_paths_first_block=True,\n",
        "      two_paths_second_block=two_paths_second_block,\n",
        "      l_ratio=l_ratio,\n",
        "      ab_ratio=(1-l_ratio),\n",
        "      max_mix_idx=5, \n",
        "      model_name='two_path_inception_v3'\n",
        "      )    \n",
        "    monitor='val_accuracy'\n",
        "    best_result_file_name = basefilename+'-best_result.hdf5'\n",
        "    save_best = keras.callbacks.ModelCheckpoint(\n",
        "      filepath=best_result_file_name, \n",
        "      monitor=monitor, \n",
        "      verbose=1, \n",
        "      save_best_only=True, \n",
        "      save_weights_only=False, \n",
        "      mode='max', \n",
        "      period=1)\n",
        "    history = model.fit(train_x, train_y, epochs=epochs, batch_size=batch_size,\n",
        "      validation_data=(val_x,val_y),\n",
        "      callbacks=[save_best],class_weight=classweight,\n",
        "      workers=multiprocessing.cpu_count())\n",
        "    print('Testing Last Model: '+basefilename)\n",
        "    evaluated = model.evaluate(test_x,test_y)\n",
        "    for metric, name in zip(evaluated,[\"loss\",\"acc\",\"top 5 acc\"]):\n",
        "      print(name,metric)\n",
        "    print('Best Model Results: '+basefilename)\n",
        "    model = keras.models.load_model(best_result_file_name, custom_objects={'CopyChannels': cai.layers.CopyChannels})\n",
        "    evaluated = model.evaluate(test_x,test_y)\n",
        "    cai.models.save_model(model, basefilename)\n",
        "    for metric, name in zip(evaluated,[\"loss\",\"acc\",\"top 5 acc\"]):\n",
        "      print(name,metric)\n",
        "    print('Finished: '+basefilename)"
      ],
      "execution_count": 9,
      "outputs": [
        {
          "output_type": "stream",
          "name": "stdout",
          "text": [
            "Running: two-path-inception-v2.7-False-0.2\n",
            "WARNING:tensorflow:`period` argument is deprecated. Please use `save_freq` to specify the frequency in number of batches seen.\n"
          ]
        },
        {
          "output_type": "stream",
          "name": "stderr",
          "text": [
            "/usr/local/lib/python3.7/dist-packages/keras/optimizer_v2/gradient_descent.py:102: UserWarning: The `lr` argument is deprecated, use `learning_rate` instead.\n",
            "  super(SGD, self).__init__(name, **kwargs)\n"
          ]
        },
        {
          "output_type": "stream",
          "name": "stdout",
          "text": [
            "Epoch 1/30\n",
            "2036/2036 [==============================] - ETA: 0s - loss: 1.4251 - accuracy: 0.5848\n",
            "Epoch 00001: val_accuracy improved from -inf to 0.26064, saving model to two-path-inception-v2.7-False-0.2-best_result.hdf5\n",
            "2036/2036 [==============================] - 71s 29ms/step - loss: 1.4251 - accuracy: 0.5848 - val_loss: 3.8903 - val_accuracy: 0.2606\n",
            "Epoch 2/30\n",
            "2036/2036 [==============================] - ETA: 0s - loss: 0.5014 - accuracy: 0.8291\n",
            "Epoch 00002: val_accuracy improved from 0.26064 to 0.89722, saving model to two-path-inception-v2.7-False-0.2-best_result.hdf5\n",
            "2036/2036 [==============================] - 57s 28ms/step - loss: 0.5014 - accuracy: 0.8291 - val_loss: 0.3199 - val_accuracy: 0.8972\n",
            "Epoch 3/30\n",
            "2036/2036 [==============================] - ETA: 0s - loss: 0.2957 - accuracy: 0.8942\n",
            "Epoch 00003: val_accuracy did not improve from 0.89722\n",
            "2036/2036 [==============================] - 55s 27ms/step - loss: 0.2957 - accuracy: 0.8942 - val_loss: 0.3747 - val_accuracy: 0.8887\n",
            "Epoch 4/30\n",
            "2034/2036 [============================>.] - ETA: 0s - loss: 0.1909 - accuracy: 0.9302\n",
            "Epoch 00004: val_accuracy improved from 0.89722 to 0.94133, saving model to two-path-inception-v2.7-False-0.2-best_result.hdf5\n",
            "2036/2036 [==============================] - 55s 27ms/step - loss: 0.1909 - accuracy: 0.9302 - val_loss: 0.1864 - val_accuracy: 0.9413\n",
            "Epoch 5/30\n",
            "2036/2036 [==============================] - ETA: 0s - loss: 0.1423 - accuracy: 0.9481\n",
            "Epoch 00005: val_accuracy improved from 0.94133 to 0.94723, saving model to two-path-inception-v2.7-False-0.2-best_result.hdf5\n",
            "2036/2036 [==============================] - 55s 27ms/step - loss: 0.1423 - accuracy: 0.9481 - val_loss: 0.1627 - val_accuracy: 0.9472\n",
            "Epoch 6/30\n",
            "2036/2036 [==============================] - ETA: 0s - loss: 0.1380 - accuracy: 0.9491\n",
            "Epoch 00006: val_accuracy did not improve from 0.94723\n",
            "2036/2036 [==============================] - 55s 27ms/step - loss: 0.1380 - accuracy: 0.9491 - val_loss: 0.1797 - val_accuracy: 0.9408\n",
            "Epoch 7/30\n",
            "2034/2036 [============================>.] - ETA: 0s - loss: 0.1123 - accuracy: 0.9570\n",
            "Epoch 00007: val_accuracy improved from 0.94723 to 0.94824, saving model to two-path-inception-v2.7-False-0.2-best_result.hdf5\n",
            "2036/2036 [==============================] - 55s 27ms/step - loss: 0.1122 - accuracy: 0.9570 - val_loss: 0.1651 - val_accuracy: 0.9482\n",
            "Epoch 8/30\n",
            "2035/2036 [============================>.] - ETA: 0s - loss: 0.0874 - accuracy: 0.9660\n",
            "Epoch 00008: val_accuracy did not improve from 0.94824\n",
            "2036/2036 [==============================] - 55s 27ms/step - loss: 0.0874 - accuracy: 0.9660 - val_loss: 0.2490 - val_accuracy: 0.9321\n",
            "Epoch 9/30\n",
            "2034/2036 [============================>.] - ETA: 0s - loss: 0.0694 - accuracy: 0.9741\n",
            "Epoch 00009: val_accuracy improved from 0.94824 to 0.96454, saving model to two-path-inception-v2.7-False-0.2-best_result.hdf5\n",
            "2036/2036 [==============================] - 56s 27ms/step - loss: 0.0695 - accuracy: 0.9740 - val_loss: 0.1115 - val_accuracy: 0.9645\n",
            "Epoch 10/30\n",
            "2035/2036 [============================>.] - ETA: 0s - loss: 0.0548 - accuracy: 0.9791\n",
            "Epoch 00010: val_accuracy did not improve from 0.96454\n",
            "2036/2036 [==============================] - 55s 27ms/step - loss: 0.0548 - accuracy: 0.9792 - val_loss: 0.1448 - val_accuracy: 0.9556\n",
            "Epoch 11/30\n",
            "2035/2036 [============================>.] - ETA: 0s - loss: 0.0454 - accuracy: 0.9828\n",
            "Epoch 00011: val_accuracy did not improve from 0.96454\n",
            "2036/2036 [==============================] - 55s 27ms/step - loss: 0.0455 - accuracy: 0.9828 - val_loss: 0.1494 - val_accuracy: 0.9528\n",
            "Epoch 12/30\n",
            "2035/2036 [============================>.] - ETA: 0s - loss: 0.0395 - accuracy: 0.9847\n",
            "Epoch 00012: val_accuracy improved from 0.96454 to 0.97246, saving model to two-path-inception-v2.7-False-0.2-best_result.hdf5\n",
            "2036/2036 [==============================] - 57s 28ms/step - loss: 0.0396 - accuracy: 0.9846 - val_loss: 0.0846 - val_accuracy: 0.9725\n",
            "Epoch 13/30\n",
            "2035/2036 [============================>.] - ETA: 0s - loss: 0.0406 - accuracy: 0.9846\n",
            "Epoch 00013: val_accuracy improved from 0.97246 to 0.97320, saving model to two-path-inception-v2.7-False-0.2-best_result.hdf5\n",
            "2036/2036 [==============================] - 56s 28ms/step - loss: 0.0408 - accuracy: 0.9845 - val_loss: 0.0870 - val_accuracy: 0.9732\n",
            "Epoch 14/30\n",
            "2034/2036 [============================>.] - ETA: 0s - loss: 0.0360 - accuracy: 0.9850\n",
            "Epoch 00014: val_accuracy improved from 0.97320 to 0.98812, saving model to two-path-inception-v2.7-False-0.2-best_result.hdf5\n",
            "2036/2036 [==============================] - 56s 28ms/step - loss: 0.0360 - accuracy: 0.9850 - val_loss: 0.0449 - val_accuracy: 0.9881\n",
            "Epoch 15/30\n",
            "2034/2036 [============================>.] - ETA: 0s - loss: 0.0337 - accuracy: 0.9882\n",
            "Epoch 00015: val_accuracy did not improve from 0.98812\n",
            "2036/2036 [==============================] - 55s 27ms/step - loss: 0.0337 - accuracy: 0.9882 - val_loss: 0.0645 - val_accuracy: 0.9805\n",
            "Epoch 16/30\n",
            "2035/2036 [============================>.] - ETA: 0s - loss: 0.0232 - accuracy: 0.9909\n",
            "Epoch 00016: val_accuracy did not improve from 0.98812\n",
            "2036/2036 [==============================] - 55s 27ms/step - loss: 0.0232 - accuracy: 0.9909 - val_loss: 0.2038 - val_accuracy: 0.9451\n",
            "Epoch 17/30\n",
            "2036/2036 [==============================] - ETA: 0s - loss: 0.0206 - accuracy: 0.9910\n",
            "Epoch 00017: val_accuracy did not improve from 0.98812\n",
            "2036/2036 [==============================] - 55s 27ms/step - loss: 0.0206 - accuracy: 0.9910 - val_loss: 0.0875 - val_accuracy: 0.9749\n",
            "Epoch 18/30\n",
            "2036/2036 [==============================] - ETA: 0s - loss: 0.0208 - accuracy: 0.9916\n",
            "Epoch 00018: val_accuracy did not improve from 0.98812\n",
            "2036/2036 [==============================] - 55s 27ms/step - loss: 0.0208 - accuracy: 0.9916 - val_loss: 0.0712 - val_accuracy: 0.9811\n",
            "Epoch 19/30\n",
            "2034/2036 [============================>.] - ETA: 0s - loss: 0.0211 - accuracy: 0.9924\n",
            "Epoch 00019: val_accuracy did not improve from 0.98812\n",
            "2036/2036 [==============================] - 55s 27ms/step - loss: 0.0211 - accuracy: 0.9924 - val_loss: 0.1312 - val_accuracy: 0.9622\n",
            "Epoch 20/30\n",
            "2035/2036 [============================>.] - ETA: 0s - loss: 0.0181 - accuracy: 0.9933\n",
            "Epoch 00020: val_accuracy did not improve from 0.98812\n",
            "2036/2036 [==============================] - 55s 27ms/step - loss: 0.0181 - accuracy: 0.9933 - val_loss: 0.0466 - val_accuracy: 0.9875\n",
            "Epoch 21/30\n",
            "2035/2036 [============================>.] - ETA: 0s - loss: 0.0148 - accuracy: 0.9942\n",
            "Epoch 00021: val_accuracy did not improve from 0.98812\n",
            "2036/2036 [==============================] - 56s 27ms/step - loss: 0.0148 - accuracy: 0.9942 - val_loss: 0.0688 - val_accuracy: 0.9799\n",
            "Epoch 22/30\n",
            "2035/2036 [============================>.] - ETA: 0s - loss: 0.0133 - accuracy: 0.9945\n",
            "Epoch 00022: val_accuracy did not improve from 0.98812\n",
            "2036/2036 [==============================] - 62s 30ms/step - loss: 0.0133 - accuracy: 0.9945 - val_loss: 0.1378 - val_accuracy: 0.9729\n",
            "Epoch 23/30\n",
            "2034/2036 [============================>.] - ETA: 0s - loss: 0.0121 - accuracy: 0.9954\n",
            "Epoch 00023: val_accuracy improved from 0.98812 to 0.98941, saving model to two-path-inception-v2.7-False-0.2-best_result.hdf5\n",
            "2036/2036 [==============================] - 58s 29ms/step - loss: 0.0121 - accuracy: 0.9954 - val_loss: 0.0419 - val_accuracy: 0.9894\n",
            "Epoch 24/30\n",
            "2035/2036 [============================>.] - ETA: 0s - loss: 0.0134 - accuracy: 0.9950\n",
            "Epoch 00024: val_accuracy did not improve from 0.98941\n",
            "2036/2036 [==============================] - 57s 28ms/step - loss: 0.0134 - accuracy: 0.9950 - val_loss: 0.0429 - val_accuracy: 0.9880\n",
            "Epoch 25/30\n",
            "2036/2036 [==============================] - ETA: 0s - loss: 0.0098 - accuracy: 0.9962\n",
            "Epoch 00025: val_accuracy improved from 0.98941 to 0.98959, saving model to two-path-inception-v2.7-False-0.2-best_result.hdf5\n",
            "2036/2036 [==============================] - 58s 28ms/step - loss: 0.0098 - accuracy: 0.9962 - val_loss: 0.0388 - val_accuracy: 0.9896\n",
            "Epoch 26/30\n",
            "2034/2036 [============================>.] - ETA: 0s - loss: 0.0083 - accuracy: 0.9970\n",
            "Epoch 00026: val_accuracy did not improve from 0.98959\n",
            "2036/2036 [==============================] - 57s 28ms/step - loss: 0.0083 - accuracy: 0.9970 - val_loss: 0.0596 - val_accuracy: 0.9851\n",
            "Epoch 27/30\n",
            "2036/2036 [==============================] - ETA: 0s - loss: 0.0228 - accuracy: 0.9926\n",
            "Epoch 00027: val_accuracy did not improve from 0.98959\n",
            "2036/2036 [==============================] - 59s 29ms/step - loss: 0.0228 - accuracy: 0.9926 - val_loss: 0.0432 - val_accuracy: 0.9892\n",
            "Epoch 28/30\n",
            "2035/2036 [============================>.] - ETA: 0s - loss: 0.0120 - accuracy: 0.9956\n",
            "Epoch 00028: val_accuracy did not improve from 0.98959\n",
            "2036/2036 [==============================] - 58s 28ms/step - loss: 0.0120 - accuracy: 0.9956 - val_loss: 0.0491 - val_accuracy: 0.9868\n",
            "Epoch 29/30\n",
            "2036/2036 [==============================] - ETA: 0s - loss: 0.0093 - accuracy: 0.9963\n",
            "Epoch 00029: val_accuracy did not improve from 0.98959\n",
            "2036/2036 [==============================] - 58s 29ms/step - loss: 0.0093 - accuracy: 0.9963 - val_loss: 0.0849 - val_accuracy: 0.9778\n",
            "Epoch 30/30\n",
            "2036/2036 [==============================] - ETA: 0s - loss: 0.0102 - accuracy: 0.9964\n",
            "Epoch 00030: val_accuracy improved from 0.98959 to 0.99162, saving model to two-path-inception-v2.7-False-0.2-best_result.hdf5\n",
            "2036/2036 [==============================] - 59s 29ms/step - loss: 0.0102 - accuracy: 0.9964 - val_loss: 0.0358 - val_accuracy: 0.9916\n",
            "Testing Last Model: two-path-inception-v2.7-False-0.2\n",
            "340/340 [==============================] - 4s 12ms/step - loss: 0.0322 - accuracy: 0.9916\n",
            "loss 0.03218746557831764\n",
            "acc 0.9916329383850098\n",
            "Best Model Results: two-path-inception-v2.7-False-0.2\n",
            "340/340 [==============================] - 4s 11ms/step - loss: 0.0322 - accuracy: 0.9916\n",
            "loss 0.03218746557831764\n",
            "acc 0.9916329383850098\n",
            "Finished: two-path-inception-v2.7-False-0.2\n"
          ]
        }
      ]
    }
  ]
}