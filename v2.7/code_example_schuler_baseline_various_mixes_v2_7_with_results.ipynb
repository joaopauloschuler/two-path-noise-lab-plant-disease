{
  "nbformat": 4,
  "nbformat_minor": 0,
  "metadata": {
    "accelerator": "GPU",
    "colab": {
      "name": "code_example_schuler_baseline_various_mixes-v2.7.ipynb",
      "provenance": [],
      "collapsed_sections": [],
      "machine_shape": "hm"
    },
    "kernelspec": {
      "display_name": "Python 3",
      "language": "python",
      "name": "python3"
    },
    "language_info": {
      "codemirror_mode": {
        "name": "ipython",
        "version": 3
      },
      "file_extension": ".py",
      "mimetype": "text/x-python",
      "name": "python",
      "nbconvert_exporter": "python",
      "pygments_lexer": "ipython3",
      "version": "3.6.9"
    }
  },
  "cells": [
    {
      "cell_type": "code",
      "source": [
        "monitor='val_accuracy'\n",
        "epochs=30\n",
        "batch_size=16\n",
        "input_shape=(128, 128, 3) # please resize it to (224,224,3) if you have enough RAM\n",
        "Verbose=True"
      ],
      "metadata": {
        "id": "6DH0gsiwyxgN"
      },
      "execution_count": 1,
      "outputs": []
    },
    {
      "cell_type": "markdown",
      "metadata": {
        "id": "2JXWocLnz38N"
      },
      "source": [
        "This source code requires a **HIGH RAM** machine.\n",
        "\n",
        "You might need to install this on your system:\n",
        "\n",
        "apt-get install python3-opencv git"
      ]
    },
    {
      "cell_type": "code",
      "metadata": {
        "id": "PQKpflNl7m63",
        "outputId": "395edc00-dd11-41f2-af51-968bbf5acceb",
        "colab": {
          "base_uri": "https://localhost:8080/"
        }
      },
      "source": [
        "import os\n",
        "\n",
        "if not os.path.isdir('k'):\n",
        "  !git clone -b development14 https://github.com/joaopauloschuler/k-neural-api.git k\n",
        "else:\n",
        "  !cd k && git pull\n",
        "\n",
        "!cd k && pip install ."
      ],
      "execution_count": 2,
      "outputs": [
        {
          "output_type": "stream",
          "name": "stdout",
          "text": [
            "Cloning into 'k'...\n",
            "remote: Enumerating objects: 1400, done.\u001b[K\n",
            "remote: Counting objects: 100% (849/849), done.\u001b[K\n",
            "remote: Compressing objects: 100% (548/548), done.\u001b[K\n",
            "remote: Total 1400 (delta 624), reused 519 (delta 300), pack-reused 551\u001b[K\n",
            "Receiving objects: 100% (1400/1400), 15.00 MiB | 28.88 MiB/s, done.\n",
            "Resolving deltas: 100% (980/980), done.\n",
            "Processing /content/k\n",
            "\u001b[33m  DEPRECATION: A future pip version will change local packages to be built in-place without first copying to a temporary directory. We recommend you use --use-feature=in-tree-build to test your packages with this new behavior before it becomes the default.\n",
            "   pip 21.3 will remove support for this functionality. You can find discussion regarding this at https://github.com/pypa/pip/issues/7555.\u001b[0m\n",
            "Requirement already satisfied: pandas>=0.22.0 in /usr/local/lib/python3.7/dist-packages (from cai==0.1.5) (1.1.5)\n",
            "Requirement already satisfied: scikit-image>=0.15.0 in /usr/local/lib/python3.7/dist-packages (from cai==0.1.5) (0.18.3)\n",
            "Requirement already satisfied: opencv-python>=4.1.2.30 in /usr/local/lib/python3.7/dist-packages (from cai==0.1.5) (4.1.2.30)\n",
            "Requirement already satisfied: scikit-learn>=0.21.0numpy in /usr/local/lib/python3.7/dist-packages (from cai==0.1.5) (1.0.1)\n",
            "Requirement already satisfied: numpy>=1.14.5 in /usr/local/lib/python3.7/dist-packages (from opencv-python>=4.1.2.30->cai==0.1.5) (1.19.5)\n",
            "Requirement already satisfied: pytz>=2017.2 in /usr/local/lib/python3.7/dist-packages (from pandas>=0.22.0->cai==0.1.5) (2018.9)\n",
            "Requirement already satisfied: python-dateutil>=2.7.3 in /usr/local/lib/python3.7/dist-packages (from pandas>=0.22.0->cai==0.1.5) (2.8.2)\n",
            "Requirement already satisfied: six>=1.5 in /usr/local/lib/python3.7/dist-packages (from python-dateutil>=2.7.3->pandas>=0.22.0->cai==0.1.5) (1.15.0)\n",
            "Requirement already satisfied: pillow!=7.1.0,!=7.1.1,>=4.3.0 in /usr/local/lib/python3.7/dist-packages (from scikit-image>=0.15.0->cai==0.1.5) (7.1.2)\n",
            "Requirement already satisfied: imageio>=2.3.0 in /usr/local/lib/python3.7/dist-packages (from scikit-image>=0.15.0->cai==0.1.5) (2.4.1)\n",
            "Requirement already satisfied: PyWavelets>=1.1.1 in /usr/local/lib/python3.7/dist-packages (from scikit-image>=0.15.0->cai==0.1.5) (1.2.0)\n",
            "Requirement already satisfied: scipy>=1.0.1 in /usr/local/lib/python3.7/dist-packages (from scikit-image>=0.15.0->cai==0.1.5) (1.4.1)\n",
            "Requirement already satisfied: networkx>=2.0 in /usr/local/lib/python3.7/dist-packages (from scikit-image>=0.15.0->cai==0.1.5) (2.6.3)\n",
            "Requirement already satisfied: tifffile>=2019.7.26 in /usr/local/lib/python3.7/dist-packages (from scikit-image>=0.15.0->cai==0.1.5) (2021.11.2)\n",
            "Requirement already satisfied: matplotlib!=3.0.0,>=2.0.0 in /usr/local/lib/python3.7/dist-packages (from scikit-image>=0.15.0->cai==0.1.5) (3.2.2)\n",
            "Requirement already satisfied: cycler>=0.10 in /usr/local/lib/python3.7/dist-packages (from matplotlib!=3.0.0,>=2.0.0->scikit-image>=0.15.0->cai==0.1.5) (0.11.0)\n",
            "Requirement already satisfied: kiwisolver>=1.0.1 in /usr/local/lib/python3.7/dist-packages (from matplotlib!=3.0.0,>=2.0.0->scikit-image>=0.15.0->cai==0.1.5) (1.3.2)\n",
            "Requirement already satisfied: pyparsing!=2.0.4,!=2.1.2,!=2.1.6,>=2.0.1 in /usr/local/lib/python3.7/dist-packages (from matplotlib!=3.0.0,>=2.0.0->scikit-image>=0.15.0->cai==0.1.5) (3.0.6)\n",
            "Requirement already satisfied: threadpoolctl>=2.0.0 in /usr/local/lib/python3.7/dist-packages (from scikit-learn>=0.21.0numpy->cai==0.1.5) (3.0.0)\n",
            "Requirement already satisfied: joblib>=0.11 in /usr/local/lib/python3.7/dist-packages (from scikit-learn>=0.21.0numpy->cai==0.1.5) (1.1.0)\n",
            "Building wheels for collected packages: cai\n",
            "  Building wheel for cai (setup.py) ... \u001b[?25l\u001b[?25hdone\n",
            "  Created wheel for cai: filename=cai-0.1.5-py3-none-any.whl size=57413 sha256=a90de346ae688a35e315ccb617b0593a133dc77bc07a9e3c828d329c887329f8\n",
            "  Stored in directory: /tmp/pip-ephem-wheel-cache-diniok9u/wheels/c1/8a/57/56dbba25eff58e52e5365435c4fa102ad8d6f9787d3b4db13a\n",
            "Successfully built cai\n",
            "Installing collected packages: cai\n",
            "Successfully installed cai-0.1.5\n"
          ]
        }
      ]
    },
    {
      "cell_type": "code",
      "metadata": {
        "id": "2FWmCCX96ndE",
        "outputId": "8a7a8b18-596c-4988-f0f8-f805c7fcc030",
        "colab": {
          "base_uri": "https://localhost:8080/"
        }
      },
      "source": [
        "import sys\n",
        "print(\"Python version\")\n",
        "print (sys.version)\n",
        "print(\"Version info.\")\n",
        "print (sys.version_info)\n",
        "\n",
        "import skimage\n",
        "print('skimage version',  skimage.__version__)\n",
        "import tensorflow as tf\n",
        "print(tf.__version__)\n",
        "import sys\n",
        "import cai\n",
        "import cai.datasets\n",
        "import cai.densenet\n",
        "import cai.util\n",
        "import cai.models"
      ],
      "execution_count": 3,
      "outputs": [
        {
          "output_type": "stream",
          "name": "stdout",
          "text": [
            "Python version\n",
            "3.7.12 (default, Sep 10 2021, 00:21:48) \n",
            "[GCC 7.5.0]\n",
            "Version info.\n",
            "sys.version_info(major=3, minor=7, micro=12, releaselevel='final', serial=0)\n",
            "skimage version 0.18.3\n",
            "2.7.0\n"
          ]
        }
      ]
    },
    {
      "cell_type": "code",
      "metadata": {
        "id": "9WqdOtor61VZ",
        "outputId": "de81025b-8f78-4069-dbe6-920c55c9d953",
        "colab": {
          "base_uri": "https://localhost:8080/"
        }
      },
      "source": [
        "url_zip_file=\"https://data.mendeley.com/public-files/datasets/tywbtsjrjv/files/d5652a28-c1d8-4b76-97f3-72fb80f94efc/file_downloaded\"\n",
        "local_zip_file=\"plant_leaf.zip\"\n",
        "expected_folder_name=\"plant_leaf\"\n",
        "cai.datasets.download_zip_and_extract(\n",
        "    url_zip_file=url_zip_file, local_zip_file=local_zip_file, \n",
        "    expected_folder_name=expected_folder_name, Verbose=Verbose)"
      ],
      "execution_count": 4,
      "outputs": [
        {
          "output_type": "stream",
          "name": "stdout",
          "text": [
            "Downloading:  https://data.mendeley.com/public-files/datasets/tywbtsjrjv/files/d5652a28-c1d8-4b76-97f3-72fb80f94efc/file_downloaded  to  plant_leaf.zip\n",
            "Decompressing into:  plant_leaf\n"
          ]
        }
      ]
    },
    {
      "cell_type": "code",
      "metadata": {
        "id": "-Yn9mmLAxvlK"
      },
      "source": [
        "import random\n",
        "import os\n",
        "import multiprocessing\n",
        "import glob\n",
        "import numpy as np\n",
        "import tensorflow\n",
        "from sklearn.model_selection import train_test_split\n",
        "import sklearn.utils.class_weight\n",
        "from tensorflow import keras\n",
        "from tensorflow.keras import mixed_precision\n",
        "from tensorflow.keras.applications.inception_v3 import InceptionV3\n",
        "from tensorflow.keras.preprocessing.image import ImageDataGenerator, load_img, img_to_array\n",
        "from tensorflow.keras import utils as np_utils\n",
        "from tensorflow.keras.optimizers import SGD\n",
        "from tensorflow.keras.layers import *\n",
        "from tensorflow.keras.models import Model\n",
        "from tensorflow.keras.callbacks import EarlyStopping\n",
        "import matplotlib.pyplot as plt\n",
        "%matplotlib inline"
      ],
      "execution_count": 5,
      "outputs": []
    },
    {
      "cell_type": "code",
      "metadata": {
        "id": "Z2LGtzGBx5IR",
        "outputId": "27043c13-ea9e-42cf-c156-859608af66f6",
        "colab": {
          "base_uri": "https://localhost:8080/"
        }
      },
      "source": [
        "!rm -r plant_leaf/Plant_leave_diseases_dataset_without_augmentation/Background_without_leaves -R\n",
        "data_dir = \"plant_leaf/Plant_leave_diseases_dataset_without_augmentation/\"\n",
        "print(os.listdir(data_dir))"
      ],
      "execution_count": 6,
      "outputs": [
        {
          "output_type": "stream",
          "name": "stdout",
          "text": [
            "['Pepper,_bell___Bacterial_spot', 'Blueberry___healthy', 'Strawberry___Leaf_scorch', 'Strawberry___healthy', 'Peach___healthy', 'Apple___Black_rot', 'Grape___Leaf_blight_(Isariopsis_Leaf_Spot)', 'Potato___Early_blight', 'Corn___healthy', 'Corn___Common_rust', 'Tomato___Spider_mites Two-spotted_spider_mite', 'Tomato___Late_blight', 'Raspberry___healthy', 'Grape___Esca_(Black_Measles)', 'Tomato___Target_Spot', 'Grape___healthy', 'Tomato___healthy', 'Apple___Apple_scab', 'Apple___healthy', 'Grape___Black_rot', 'Corn___Northern_Leaf_Blight', 'Corn___Cercospora_leaf_spot Gray_leaf_spot', 'Tomato___Septoria_leaf_spot', 'Potato___Late_blight', 'Squash___Powdery_mildew', 'Peach___Bacterial_spot', 'Tomato___Tomato_mosaic_virus', 'Tomato___Early_blight', 'Cherry___healthy', 'Potato___healthy', 'Pepper,_bell___healthy', 'Cherry___Powdery_mildew', 'Tomato___Bacterial_spot', 'Tomato___Tomato_Yellow_Leaf_Curl_Virus', 'Soybean___healthy', 'Tomato___Leaf_Mold', 'Apple___Cedar_apple_rust', 'Orange___Haunglongbing_(Citrus_greening)']\n"
          ]
        }
      ]
    },
    {
      "cell_type": "code",
      "metadata": {
        "id": "uUfiL_BgqOct"
      },
      "source": [
        "def compiled_two_path_inception_v3(\n",
        "  classes=1000, \n",
        "  input_shape=input_shape,\n",
        "  two_paths_first_block=False,\n",
        "  two_paths_second_block=False,\n",
        "  max_mix_idx=10):\n",
        "  base_model = cai.models.two_path_inception_v3(\n",
        "    include_top=False,\n",
        "    weights=None,\n",
        "    input_shape=input_shape,\n",
        "    pooling=None,\n",
        "    two_paths_first_block=two_paths_first_block,\n",
        "    two_paths_second_block=two_paths_second_block,\n",
        "    max_mix_idx=max_mix_idx)\n",
        "  x = base_model.output\n",
        "  x = GlobalAveragePooling2D()(x)\n",
        "  x = Dense(38, name='preprediction')(x)\n",
        "  predictions = Activation('softmax',name='prediction')(x)\n",
        "  model = Model(inputs=base_model.input, outputs=predictions)\n",
        "  model.compile(loss='categorical_crossentropy',\n",
        "  optimizer = 'sgd',\n",
        "  metrics=['accuracy'])\n",
        "  return model"
      ],
      "execution_count": 7,
      "outputs": []
    },
    {
      "cell_type": "code",
      "metadata": {
        "id": "T_1lHVDc082Z",
        "outputId": "780ebf65-b2b8-46cb-e3f0-14ec5f06b210",
        "colab": {
          "base_uri": "https://localhost:8080/"
        }
      },
      "source": [
        "train_x, val_x, test_x, train_y, val_y, test_y, classweight, classes = cai.datasets.load_images_from_folders(seed=7, root_dir=data_dir, lab=False, \n",
        "  verbose=Verbose, bipolar=False, base_model_name='plant_leaf',\n",
        "  training_size=0.6, validation_size=0.2, test_size=0.2,\n",
        "  target_size=(input_shape[0],input_shape[1]), \n",
        "  has_training=True, has_validation=True, has_testing=True, \n",
        "  smart_resize=True)"
      ],
      "execution_count": 8,
      "outputs": [
        {
          "output_type": "stream",
          "name": "stdout",
          "text": [
            "Loading  38  classes.\n",
            "smart resize is enabled.\n",
            "loading train images\n",
            "train shape is: (32571, 128, 128, 3)\n",
            "loading validation images\n",
            "validation shape is: (10858, 128, 128, 3)\n",
            "loading test images\n",
            "test shape is: (10876, 128, 128, 3)\n",
            "Channel  0  min: 0.0  max: 1.0\n",
            "Channel  1  min: 0.0  max: 1.0\n",
            "Channel  2  min: 0.0  max: 1.0\n",
            "Loaded.\n"
          ]
        }
      ]
    },
    {
      "cell_type": "code",
      "metadata": {
        "id": "UosoQy_c1_4M",
        "outputId": "bc1d04f3-4e02-46b8-b902-e07936fcb2b5",
        "colab": {
          "base_uri": "https://localhost:8080/"
        }
      },
      "source": [
        "print(train_x.shape,val_x.shape,test_x.shape)\n",
        "print(train_y.shape,val_y.shape,test_y.shape)"
      ],
      "execution_count": 9,
      "outputs": [
        {
          "output_type": "stream",
          "name": "stdout",
          "text": [
            "(32571, 128, 128, 3) (10858, 128, 128, 3) (10876, 128, 128, 3)\n",
            "(32571, 38) (10858, 38) (10876, 38)\n"
          ]
        }
      ]
    },
    {
      "cell_type": "code",
      "metadata": {
        "id": "d-q_V3dJ3BhT",
        "outputId": "c88e18e5-9f82-4ffe-df48-1b5adc5d0c6f",
        "colab": {
          "base_uri": "https://localhost:8080/"
        }
      },
      "source": [
        "for max_mix_idx in [5]: # range(-1,10,1):\n",
        "    basefilename = 'Schuler-baseline-v2.7-'+str(max_mix_idx)\n",
        "    print('Running: '+basefilename)\n",
        "    model = compiled_two_path_inception_v3(\n",
        "      classes=38,\n",
        "      input_shape=input_shape,\n",
        "      two_paths_first_block=False,\n",
        "      two_paths_second_block=False,\n",
        "      max_mix_idx=max_mix_idx)\n",
        "    best_result_file_name = basefilename+'-best-result.hdf5'\n",
        "    save_best = tensorflow.keras.callbacks.ModelCheckpoint(\n",
        "      filepath=best_result_file_name, \n",
        "      monitor=monitor, \n",
        "      verbose=1, \n",
        "      save_best_only=True, \n",
        "      save_weights_only=False, \n",
        "      mode='max', \n",
        "      save_freq='epoch')\n",
        "    history = model.fit(train_x, train_y, epochs=epochs, batch_size=batch_size,\n",
        "      validation_data=(val_x,val_y),\n",
        "      callbacks=[save_best], \n",
        "      class_weight = classweight\n",
        "    )\n",
        "    print('Testing Last Model: '+basefilename)\n",
        "    evaluated = model.evaluate(test_x,test_y)\n",
        "    for metric, name in zip(evaluated,[\"loss\",\"acc\",\"top 5 acc\"]):\n",
        "      print(name,metric)\n",
        "    print('Best Model Results: '+basefilename)\n",
        "    model = keras.models.load_model(best_result_file_name, custom_objects={'CopyChannels': cai.layers.CopyChannels})\n",
        "    evaluated = model.evaluate(test_x,test_y)\n",
        "    for metric, name in zip(evaluated,[\"loss\",\"acc\",\"top 5 acc\"]):\n",
        "      print(name,metric)\n",
        "    print('Finished: '+basefilename)"
      ],
      "execution_count": 10,
      "outputs": [
        {
          "output_type": "stream",
          "name": "stdout",
          "text": [
            "Running: Schuler-baseline-v2.7-5\n",
            "Epoch 1/30\n",
            "2036/2036 [==============================] - ETA: 0s - loss: 1.5186 - accuracy: 0.5708\n",
            "Epoch 00001: val_accuracy improved from -inf to 0.74415, saving model to Schuler-baseline-v2.7-5-best-result.hdf5\n",
            "2036/2036 [==============================] - 66s 27ms/step - loss: 1.5186 - accuracy: 0.5708 - val_loss: 0.8343 - val_accuracy: 0.7442\n",
            "Epoch 2/30\n",
            "2035/2036 [============================>.] - ETA: 0s - loss: 0.6047 - accuracy: 0.8071\n",
            "Epoch 00002: val_accuracy improved from 0.74415 to 0.78992, saving model to Schuler-baseline-v2.7-5-best-result.hdf5\n",
            "2036/2036 [==============================] - 53s 26ms/step - loss: 0.6046 - accuracy: 0.8071 - val_loss: 0.6813 - val_accuracy: 0.7899\n",
            "Epoch 3/30\n",
            "2036/2036 [==============================] - ETA: 0s - loss: 0.3618 - accuracy: 0.8804\n",
            "Epoch 00003: val_accuracy improved from 0.78992 to 0.82676, saving model to Schuler-baseline-v2.7-5-best-result.hdf5\n",
            "2036/2036 [==============================] - 52s 25ms/step - loss: 0.3618 - accuracy: 0.8804 - val_loss: 0.5784 - val_accuracy: 0.8268\n",
            "Epoch 4/30\n",
            "2034/2036 [============================>.] - ETA: 0s - loss: 0.2604 - accuracy: 0.9105\n",
            "Epoch 00004: val_accuracy improved from 0.82676 to 0.89105, saving model to Schuler-baseline-v2.7-5-best-result.hdf5\n",
            "2036/2036 [==============================] - 52s 25ms/step - loss: 0.2605 - accuracy: 0.9105 - val_loss: 0.3324 - val_accuracy: 0.8910\n",
            "Epoch 5/30\n",
            "2034/2036 [============================>.] - ETA: 0s - loss: 0.1937 - accuracy: 0.9321\n",
            "Epoch 00005: val_accuracy improved from 0.89105 to 0.89722, saving model to Schuler-baseline-v2.7-5-best-result.hdf5\n",
            "2036/2036 [==============================] - 52s 25ms/step - loss: 0.1938 - accuracy: 0.9321 - val_loss: 0.3171 - val_accuracy: 0.8972\n",
            "Epoch 6/30\n",
            "2034/2036 [============================>.] - ETA: 0s - loss: 0.1370 - accuracy: 0.9518\n",
            "Epoch 00006: val_accuracy improved from 0.89722 to 0.91426, saving model to Schuler-baseline-v2.7-5-best-result.hdf5\n",
            "2036/2036 [==============================] - 52s 25ms/step - loss: 0.1370 - accuracy: 0.9518 - val_loss: 0.2666 - val_accuracy: 0.9143\n",
            "Epoch 7/30\n",
            "2034/2036 [============================>.] - ETA: 0s - loss: 0.1311 - accuracy: 0.9550\n",
            "Epoch 00007: val_accuracy improved from 0.91426 to 0.91665, saving model to Schuler-baseline-v2.7-5-best-result.hdf5\n",
            "2036/2036 [==============================] - 52s 25ms/step - loss: 0.1313 - accuracy: 0.9550 - val_loss: 0.2575 - val_accuracy: 0.9167\n",
            "Epoch 8/30\n",
            "2034/2036 [============================>.] - ETA: 0s - loss: 0.1029 - accuracy: 0.9626\n",
            "Epoch 00008: val_accuracy improved from 0.91665 to 0.95331, saving model to Schuler-baseline-v2.7-5-best-result.hdf5\n",
            "2036/2036 [==============================] - 52s 25ms/step - loss: 0.1029 - accuracy: 0.9626 - val_loss: 0.1531 - val_accuracy: 0.9533\n",
            "Epoch 9/30\n",
            "2035/2036 [============================>.] - ETA: 0s - loss: 0.0877 - accuracy: 0.9689\n",
            "Epoch 00009: val_accuracy did not improve from 0.95331\n",
            "2036/2036 [==============================] - 52s 25ms/step - loss: 0.0876 - accuracy: 0.9689 - val_loss: 0.1757 - val_accuracy: 0.9453\n",
            "Epoch 10/30\n",
            "2034/2036 [============================>.] - ETA: 0s - loss: 0.0646 - accuracy: 0.9768\n",
            "Epoch 00010: val_accuracy improved from 0.95331 to 0.96924, saving model to Schuler-baseline-v2.7-5-best-result.hdf5\n",
            "2036/2036 [==============================] - 52s 25ms/step - loss: 0.0646 - accuracy: 0.9768 - val_loss: 0.0997 - val_accuracy: 0.9692\n",
            "Epoch 11/30\n",
            "2034/2036 [============================>.] - ETA: 0s - loss: 0.0561 - accuracy: 0.9795\n",
            "Epoch 00011: val_accuracy improved from 0.96924 to 0.97274, saving model to Schuler-baseline-v2.7-5-best-result.hdf5\n",
            "2036/2036 [==============================] - 51s 25ms/step - loss: 0.0561 - accuracy: 0.9795 - val_loss: 0.0865 - val_accuracy: 0.9727\n",
            "Epoch 12/30\n",
            "2036/2036 [==============================] - ETA: 0s - loss: 0.0455 - accuracy: 0.9844\n",
            "Epoch 00012: val_accuracy improved from 0.97274 to 0.97421, saving model to Schuler-baseline-v2.7-5-best-result.hdf5\n",
            "2036/2036 [==============================] - 52s 25ms/step - loss: 0.0455 - accuracy: 0.9844 - val_loss: 0.0859 - val_accuracy: 0.9742\n",
            "Epoch 13/30\n",
            "2036/2036 [==============================] - ETA: 0s - loss: 0.0406 - accuracy: 0.9854\n",
            "Epoch 00013: val_accuracy did not improve from 0.97421\n",
            "2036/2036 [==============================] - 51s 25ms/step - loss: 0.0406 - accuracy: 0.9854 - val_loss: 0.1087 - val_accuracy: 0.9675\n",
            "Epoch 14/30\n",
            "2035/2036 [============================>.] - ETA: 0s - loss: 0.0439 - accuracy: 0.9842\n",
            "Epoch 00014: val_accuracy did not improve from 0.97421\n",
            "2036/2036 [==============================] - 51s 25ms/step - loss: 0.0440 - accuracy: 0.9842 - val_loss: 0.1285 - val_accuracy: 0.9617\n",
            "Epoch 15/30\n",
            "2035/2036 [============================>.] - ETA: 0s - loss: 0.0399 - accuracy: 0.9859\n",
            "Epoch 00015: val_accuracy improved from 0.97421 to 0.98001, saving model to Schuler-baseline-v2.7-5-best-result.hdf5\n",
            "2036/2036 [==============================] - 51s 25ms/step - loss: 0.0399 - accuracy: 0.9859 - val_loss: 0.0658 - val_accuracy: 0.9800\n",
            "Epoch 16/30\n",
            "2035/2036 [============================>.] - ETA: 0s - loss: 0.0305 - accuracy: 0.9901\n",
            "Epoch 00016: val_accuracy improved from 0.98001 to 0.98324, saving model to Schuler-baseline-v2.7-5-best-result.hdf5\n",
            "2036/2036 [==============================] - 51s 25ms/step - loss: 0.0305 - accuracy: 0.9901 - val_loss: 0.0582 - val_accuracy: 0.9832\n",
            "Epoch 17/30\n",
            "2035/2036 [============================>.] - ETA: 0s - loss: 0.0290 - accuracy: 0.9906\n",
            "Epoch 00017: val_accuracy did not improve from 0.98324\n",
            "2036/2036 [==============================] - 51s 25ms/step - loss: 0.0290 - accuracy: 0.9906 - val_loss: 0.0628 - val_accuracy: 0.9813\n",
            "Epoch 18/30\n",
            "2034/2036 [============================>.] - ETA: 0s - loss: 0.0436 - accuracy: 0.9848\n",
            "Epoch 00018: val_accuracy did not improve from 0.98324\n",
            "2036/2036 [==============================] - 51s 25ms/step - loss: 0.0436 - accuracy: 0.9847 - val_loss: 0.0871 - val_accuracy: 0.9749\n",
            "Epoch 19/30\n",
            "2034/2036 [============================>.] - ETA: 0s - loss: 0.0310 - accuracy: 0.9896\n",
            "Epoch 00019: val_accuracy did not improve from 0.98324\n",
            "2036/2036 [==============================] - 51s 25ms/step - loss: 0.0309 - accuracy: 0.9897 - val_loss: 0.0602 - val_accuracy: 0.9824\n",
            "Epoch 20/30\n",
            "2035/2036 [============================>.] - ETA: 0s - loss: 0.0203 - accuracy: 0.9930\n",
            "Epoch 00020: val_accuracy did not improve from 0.98324\n",
            "2036/2036 [==============================] - 51s 25ms/step - loss: 0.0203 - accuracy: 0.9930 - val_loss: 0.1055 - val_accuracy: 0.9688\n",
            "Epoch 21/30\n",
            "2034/2036 [============================>.] - ETA: 0s - loss: 0.0173 - accuracy: 0.9942\n",
            "Epoch 00021: val_accuracy did not improve from 0.98324\n",
            "2036/2036 [==============================] - 51s 25ms/step - loss: 0.0173 - accuracy: 0.9942 - val_loss: 0.0990 - val_accuracy: 0.9704\n",
            "Epoch 22/30\n",
            "2035/2036 [============================>.] - ETA: 0s - loss: 0.0327 - accuracy: 0.9895\n",
            "Epoch 00022: val_accuracy did not improve from 0.98324\n",
            "2036/2036 [==============================] - 51s 25ms/step - loss: 0.0327 - accuracy: 0.9895 - val_loss: 0.0696 - val_accuracy: 0.9782\n",
            "Epoch 23/30\n",
            "2036/2036 [==============================] - ETA: 0s - loss: 0.0201 - accuracy: 0.9934\n",
            "Epoch 00023: val_accuracy did not improve from 0.98324\n",
            "2036/2036 [==============================] - 51s 25ms/step - loss: 0.0201 - accuracy: 0.9934 - val_loss: 0.0707 - val_accuracy: 0.9784\n",
            "Epoch 24/30\n",
            "2035/2036 [============================>.] - ETA: 0s - loss: 0.0150 - accuracy: 0.9949\n",
            "Epoch 00024: val_accuracy improved from 0.98324 to 0.98388, saving model to Schuler-baseline-v2.7-5-best-result.hdf5\n",
            "2036/2036 [==============================] - 52s 25ms/step - loss: 0.0150 - accuracy: 0.9949 - val_loss: 0.0546 - val_accuracy: 0.9839\n",
            "Epoch 25/30\n",
            "2036/2036 [==============================] - ETA: 0s - loss: 0.0118 - accuracy: 0.9962\n",
            "Epoch 00025: val_accuracy did not improve from 0.98388\n",
            "2036/2036 [==============================] - 51s 25ms/step - loss: 0.0118 - accuracy: 0.9962 - val_loss: 0.0609 - val_accuracy: 0.9819\n",
            "Epoch 26/30\n",
            "2035/2036 [============================>.] - ETA: 0s - loss: 0.0132 - accuracy: 0.9954\n",
            "Epoch 00026: val_accuracy did not improve from 0.98388\n",
            "2036/2036 [==============================] - 51s 25ms/step - loss: 0.0132 - accuracy: 0.9954 - val_loss: 0.0691 - val_accuracy: 0.9811\n",
            "Epoch 27/30\n",
            "2035/2036 [============================>.] - ETA: 0s - loss: 0.0113 - accuracy: 0.9966\n",
            "Epoch 00027: val_accuracy did not improve from 0.98388\n",
            "2036/2036 [==============================] - 51s 25ms/step - loss: 0.0113 - accuracy: 0.9966 - val_loss: 0.0598 - val_accuracy: 0.9831\n",
            "Epoch 28/30\n",
            "2034/2036 [============================>.] - ETA: 0s - loss: 0.0102 - accuracy: 0.9967\n",
            "Epoch 00028: val_accuracy improved from 0.98388 to 0.98619, saving model to Schuler-baseline-v2.7-5-best-result.hdf5\n",
            "2036/2036 [==============================] - 52s 25ms/step - loss: 0.0102 - accuracy: 0.9967 - val_loss: 0.0484 - val_accuracy: 0.9862\n",
            "Epoch 29/30\n",
            "2036/2036 [==============================] - ETA: 0s - loss: 0.0102 - accuracy: 0.9968\n",
            "Epoch 00029: val_accuracy did not improve from 0.98619\n",
            "2036/2036 [==============================] - 51s 25ms/step - loss: 0.0102 - accuracy: 0.9968 - val_loss: 0.0806 - val_accuracy: 0.9779\n",
            "Epoch 30/30\n",
            "2036/2036 [==============================] - ETA: 0s - loss: 0.0122 - accuracy: 0.9961\n",
            "Epoch 00030: val_accuracy did not improve from 0.98619\n",
            "2036/2036 [==============================] - 51s 25ms/step - loss: 0.0122 - accuracy: 0.9961 - val_loss: 0.0486 - val_accuracy: 0.9861\n",
            "Testing Last Model: Schuler-baseline-v2.7-5\n",
            "340/340 [==============================] - 4s 11ms/step - loss: 0.0495 - accuracy: 0.9882\n",
            "loss 0.04953243210911751\n",
            "acc 0.9882309436798096\n",
            "Best Model Results: Schuler-baseline-v2.7-5\n",
            "340/340 [==============================] - 4s 11ms/step - loss: 0.0503 - accuracy: 0.9872\n",
            "loss 0.05028756335377693\n",
            "acc 0.9872195720672607\n",
            "Finished: Schuler-baseline-v2.7-5\n"
          ]
        }
      ]
    }
  ]
}